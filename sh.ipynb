{
 "cells": [
  {
   "cell_type": "code",
   "execution_count": null,
   "metadata": {},
   "outputs": [],
   "source": [
    "df -h"
   ]
  },
  {
   "cell_type": "markdown",
   "metadata": {},
   "source": [
    "# setting up Julia"
   ]
  },
  {
   "cell_type": "code",
   "execution_count": null,
   "metadata": {},
   "outputs": [],
   "source": [
    "export JULIA_VERSION=1.5.0"
   ]
  },
  {
   "cell_type": "code",
   "execution_count": null,
   "metadata": {},
   "outputs": [],
   "source": [
    "cd /tmp &&\\\n",
    "    mkdir \"/opt/julia-${JULIA_VERSION}\" && \\\n",
    "    wget -q https://julialang-s3.julialang.org/bin/linux/x64/$(echo \"${JULIA_VERSION}\" | cut -d. -f 1,2)\"/julia-${JULIA_VERSION}-linux-x86_64.tar.gz\" && \\\n",
    "    tar xzf \"julia-${JULIA_VERSION}-linux-x86_64.tar.gz\" -C \"/opt/julia-${JULIA_VERSION}\" --strip-components=1 && \\\n",
    "    rm \"/tmp/julia-${JULIA_VERSION}-linux-x86_64.tar.gz\""
   ]
  },
  {
   "cell_type": "code",
   "execution_count": null,
   "metadata": {},
   "outputs": [],
   "source": [
    "ln -fs /opt/julia-*/bin/julia /usr/local/bin/julia"
   ]
  },
  {
   "cell_type": "code",
   "execution_count": null,
   "metadata": {
    "scrolled": true
   },
   "outputs": [],
   "source": [
    "julia -e 'import Pkg; Pkg.update()' && \\\n",
    "    (test $TEST_ONLY_BUILD || julia -e 'import Pkg; Pkg.add(\"HDF5\")') && \\\n",
    "    julia -e \"using Pkg; pkg\\\"add IJulia\\\"; pkg\\\"precompile\\\"\""
   ]
  },
  {
   "cell_type": "code",
   "execution_count": null,
   "metadata": {},
   "outputs": [],
   "source": [
    "julia --version"
   ]
  },
  {
   "cell_type": "markdown",
   "metadata": {},
   "source": [
    "# setting up jupyterlab extensions"
   ]
  },
  {
   "cell_type": "code",
   "execution_count": null,
   "metadata": {
    "scrolled": true
   },
   "outputs": [],
   "source": [
    "# install nodejs\n",
    "curl -sL https://deb.nodesource.com/setup_current.x | sudo -E bash -\n",
    "sudo apt-get install -y nodejs"
   ]
  },
  {
   "cell_type": "code",
   "execution_count": null,
   "metadata": {
    "scrolled": true
   },
   "outputs": [],
   "source": [
    "pip install --upgrade jupyterlab-git"
   ]
  },
  {
   "cell_type": "code",
   "execution_count": null,
   "metadata": {},
   "outputs": [],
   "source": [
    "jupyter lab build --dev-build=False --minimize=False"
   ]
  },
  {
   "cell_type": "code",
   "execution_count": null,
   "metadata": {},
   "outputs": [],
   "source": [
    "node --version"
   ]
  },
  {
   "cell_type": "code",
   "execution_count": null,
   "metadata": {},
   "outputs": [],
   "source": []
  }
 ],
 "metadata": {
  "kernelspec": {
   "display_name": "Bash",
   "language": "bash",
   "name": "bash"
  },
  "language_info": {
   "codemirror_mode": "shell",
   "file_extension": ".sh",
   "mimetype": "text/x-sh",
   "name": "bash"
  }
 },
 "nbformat": 4,
 "nbformat_minor": 4
}
